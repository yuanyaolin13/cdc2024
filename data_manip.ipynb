{
 "cells": [
  {
   "cell_type": "code",
   "execution_count": 11,
   "metadata": {},
   "outputs": [
    {
     "name": "stdout",
     "output_type": "stream",
     "text": [
      "Data has been saved to attractions.json\n",
      "Data has been saved to attraction_reviews.json\n",
      "Data has been saved to poi.json\n",
      "Data has been saved to poi_reviews.json\n"
     ]
    }
   ],
   "source": [
    "import requests\n",
    "import json\n",
    "\n",
    "category_attractions = \"attraction\"\n",
    "category_poi = \"poi\"\n",
    "location = \"\"  # Update this with your desired location\n",
    "name = \"\"      # Update this with your desired name\n",
    "\n",
    "# Define URLs for attractions and POIs\n",
    "url_attractions = f\"http://tour-pedia.org/api/getPlaces?category={category_attractions}&location={location}&name={name}\"\n",
    "url_attraction_reviews = f\"http://tour-pedia.org/api/getReviews?category={category_attractions}&location={location}&name={name}\"\n",
    "url_poi = f\"http://tour-pedia.org/api/getPlaces?category={category_poi}&location={location}&name={name}\"\n",
    "url_poi_reviews = f\"http://tour-pedia.org/api/getReviews?category={category_poi}&location={location}&name={name}\"\n",
    "\n",
    "headers = {\"accept\": \"application/json\"}\n",
    "\n",
    "# Function to send requests and save responses to JSON files\n",
    "def fetch_and_save(url, filename):\n",
    "    response = requests.get(url, headers=headers)\n",
    "    \n",
    "    # Check if the request was successful\n",
    "    if response.status_code == 200:\n",
    "        # Check if the content is not empty\n",
    "        if response.text.strip():  # Check if the response has content\n",
    "            try:\n",
    "                data = response.json()\n",
    "                with open(filename, 'w') as json_file:\n",
    "                    json.dump(data, json_file, indent=4)  # Pretty-print with indent=4\n",
    "                print(f\"Data has been saved to {filename}\")\n",
    "            except json.JSONDecodeError:\n",
    "                print(f\"Failed to decode JSON from {url}. Response content: {response.text[:100]}\")\n",
    "        else:\n",
    "            print(f\"Empty response from {url}. No data saved.\")\n",
    "    else:\n",
    "        print(f\"Failed to retrieve data from {url}. Status code: {response.status_code}, Response: {response.text[:100]}\")\n",
    "\n",
    "# Fetch and save data for attractions and POIs\n",
    "fetch_and_save(url_attractions, 'attractions.json')\n",
    "fetch_and_save(url_attraction_reviews, 'attraction_reviews.json')\n",
    "fetch_and_save(url_poi, 'poi.json')\n",
    "fetch_and_save(url_poi_reviews, 'poi_reviews.json')\n"
   ]
  },
  {
   "cell_type": "code",
   "metadata": {
    "ExecuteTime": {
     "end_time": "2024-09-29T00:03:05.484237Z",
     "start_time": "2024-09-29T00:02:59.919767Z"
    }
   },
   "source": [
    "from pymongo.mongo_client import MongoClient\n",
    "from pymongo.server_api import ServerApi\n",
    "import json\n",
    "\n",
    "# Open the file and load the JSON content\n",
    "with open('merged_attractions_pretty.json', 'r') as file:\n",
    "   attractions = json.load(file)\n",
    "\n",
    "\n",
    "# send json file response to mongoDB\n",
    "uri = \"mongodb+srv://////////:///////@/////.////.mongodb.net/test?retryWrites=true&w=majority&tlsAllowInvalidCertificates=true\"\n",
    "\n",
    "\n",
    "# Create a new client and connect to the server\n",
    "client = MongoClient(uri, server_api=ServerApi('1'))\n",
    "\n",
    "\n",
    "# Change the connection string if needed\n",
    "db = client['tourpedia_data']  # Create/use a database called 'tourpedia_data'\n",
    "collection_attractions = db['attractions']  # Create/use a collection called 'restaurants'\n",
    "\n",
    "\n",
    "# Deletes all documents in the 'restaurants' collection\n",
    "collection_attractions.delete_many({})\n",
    "\n",
    "# Inserts all documents\n",
    "collection_attractions.insert_many(attractions)\n",
    "\n",
    "\n",
    "print(\"Data successfully inserted into MongoDB!\")\n"
   ],
   "outputs": [
    {
     "name": "stdout",
     "output_type": "stream",
     "text": [
      "Data successfully inserted into MongoDB!\n"
     ]
    }
   ],
   "execution_count": 1
  },
  {
   "metadata": {},
   "cell_type": "code",
   "outputs": [],
   "execution_count": null,
   "source": ""
  }
 ],
 "metadata": {
  "kernelspec": {
   "display_name": "Python 3",
   "language": "python",
   "name": "python3"
  },
  "language_info": {
   "codemirror_mode": {
    "name": "ipython",
    "version": 3
   },
   "file_extension": ".py",
   "mimetype": "text/x-python",
   "name": "python",
   "nbconvert_exporter": "python",
   "pygments_lexer": "ipython3",
   "version": "3.12.6"
  }
 },
 "nbformat": 4,
 "nbformat_minor": 2
}
