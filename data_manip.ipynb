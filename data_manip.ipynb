{
 "cells": [
  {
   "cell_type": "code",
   "execution_count": 4,
   "metadata": {},
   "outputs": [
    {
     "name": "stdout",
     "output_type": "stream",
     "text": [
      "[{\"id\":101004,\"name\":\"La Dolce Vita\",\"address\":\"Waltersdorfer Stra\\u00dfe 1A, Berlin, Germany\",\"category\":\"restaurant\",\"location\":\"Berlin\",\"lat\":52.405091,\"lng\":13.57337,\"details\":\"http:\\/\\/tour-pedia.org\\/api\\/getPlaceDetails?id=101004\"},{\"address\":\"\",\"category\":\"restaurant\",\"id\":100263,\"lat\":52.442259616828,\"lng\":13.240633765583,\"location\":\"Berlin\",\"name\":\"La Dolce Vita\",\"originalId\":\"4e209cb718a88345f0429983\",\"polarity\":0,\"subCategory\":\"Italian Restaurant\",\"details\":\"http:\\/\\/tour-pedia.org\\/api\\/getPlaceDetails?id=100263\"},{\"id\":324915,\"name\":\"La Dolce Vita\",\"address\":\"Wilsnacker Stra\\u00dfe 62, Berlin, Germany\",\"category\":\"restaurant\",\"location\":\"Berlin\",\"lat\":52.527308,\"lng\":13.351412,\"numReviews\":1,\"reviews\":\"http:\\/\\/tour-pedia.org\\/api\\/getReviewsByPlaceId?placeId=324915\",\"polarity\":0,\"details\":\"http:\\/\\/tour-pedia.org\\/api\\/getPlaceDetails?id=324915\"}]\n"
     ]
    }
   ],
   "source": [
    "import pandas as pd\n",
    "import requests\n",
    "\n",
    "\n",
    "category = \"restaurant\"\n",
    "location = \"Berlin\"\n",
    "name = \"La+Dolce\"\n",
    "\n",
    "\n",
    "url = \"http://tour-pedia.org/api/getPlaces?category=\" + category + \"&location=\" + location + \"&name=\" + name\n",
    "\n",
    "headers = {\"accept\": \"application/json\"}\n",
    "\n",
    "response = requests.get(url, headers=headers)\n",
    "\n",
    "print(response.text)\n"
   ]
  }
 ],
 "metadata": {
  "kernelspec": {
   "display_name": "Python 3",
   "language": "python",
   "name": "python3"
  },
  "language_info": {
   "codemirror_mode": {
    "name": "ipython",
    "version": 3
   },
   "file_extension": ".py",
   "mimetype": "text/x-python",
   "name": "python",
   "nbconvert_exporter": "python",
   "pygments_lexer": "ipython3",
   "version": "3.12.6"
  }
 },
 "nbformat": 4,
 "nbformat_minor": 2
}
